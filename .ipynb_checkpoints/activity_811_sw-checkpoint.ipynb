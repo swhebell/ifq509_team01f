{
 "cells": [
  {
   "cell_type": "markdown",
   "id": "4943f801-c3a7-4444-b529-6f49e29cbff2",
   "metadata": {},
   "source": [
    "## Activity 8.11\n",
    "\n",
    "### Making a multilayer perceptron classifier to predict COVID-19 positive patients"
   ]
  },
  {
   "cell_type": "code",
   "execution_count": 57,
   "id": "bfc9106d-b804-45d0-ad40-fbbae69e1ce8",
   "metadata": {},
   "outputs": [],
   "source": [
    "import pandas as pd\n",
    "import numpy as np\n",
    "\n",
    "from sklearn.model_selection import train_test_split, GridSearchCV\n",
    "from sklearn.metrics import classification_report, accuracy_score, roc_auc_score, roc_curve, plot_confusion_matrix\n",
    "from sklearn.preprocessing import StandardScaler\n",
    "from sklearn.neural_network import MLPClassifier\n",
    "from sklearn.feature_selection import SelectFromModel\n",
    "\n",
    "import matplotlib.pyplot as plt\n",
    "import seaborn as sns\n",
    "\n",
    "from dm_tools import analyse_feature_importance\n",
    "\n",
    "import pickle"
   ]
  },
  {
   "cell_type": "code",
   "execution_count": 2,
   "id": "921b18f2-6b41-4aa2-9b28-9b8d6832dcbd",
   "metadata": {},
   "outputs": [],
   "source": [
    "pd.set_option('display.max_columns', None)\n",
    "pd.set_option('display.max_rows', 20)"
   ]
  },
  {
   "cell_type": "markdown",
   "id": "1af82375-4f8a-41b5-a0fd-5fc1e48e8e84",
   "metadata": {},
   "source": [
    "### Data loading and cleaning"
   ]
  },
  {
   "cell_type": "markdown",
   "id": "9e886272-b4bb-4c8c-b8a6-6f54d9ef1f7e",
   "metadata": {},
   "source": [
    "#### Description of the dataset from Kaggle:\n",
    "\n",
    "This dataset contains anonymized data from patients seen at the Hospital Israelita Albert Einstein, at São Paulo, Brazil, and who had samples collected to perform the SARS-CoV-2 RT-PCR and additional laboratory tests during a visit to the hospital.\n",
    "\n",
    "All data were anonymized following the best international practices and recommendations. All clinical data were standardized to have a mean of zero and a unit standard deviation.\n",
    "\n",
    "We will use the same data cleaning and pre-processing as for activity 7.12"
   ]
  },
  {
   "cell_type": "code",
   "execution_count": 5,
   "id": "2ddc8178-7732-49f4-ade4-539194d9062d",
   "metadata": {},
   "outputs": [],
   "source": [
    "patients = pd.read_excel('data/dataset.xlsx')"
   ]
  },
  {
   "cell_type": "code",
   "execution_count": 6,
   "id": "2ec111f7-98dc-4077-b4cf-3729eac31ee7",
   "metadata": {},
   "outputs": [],
   "source": [
    "target = ['SARS-Cov-2 exam result']\n",
    "features =  ['Patient age quantile', 'Proteina C reativa mg/dL', 'Neutrophils', 'Mean platelet volume ', 'Monocytes', 'Red blood cell distribution width (RDW)', 'Red blood Cells',\n",
    "             'Platelets', 'Eosinophils', 'Basophils', 'Leukocytes', 'Mean corpuscular hemoglobin (MCH)', 'Mean corpuscular volume (MCV)',\n",
    "             'Mean corpuscular hemoglobin concentration\\xa0(MCHC)', 'Lymphocytes', 'Hemoglobin', 'Hematocrit',\n",
    "             'Influenza B, rapid test', 'Influenza A, rapid test']\n",
    "all_covariates = target + features\n",
    "\n",
    "# Limit the dataframe to only the target and features we are interested in\n",
    "patients = patients[all_covariates]\n",
    "\n",
    "# Drop patients that haven't had a FBC\n",
    "patients = patients.dropna(subset=['Leukocytes'])\n",
    "\n",
    "# Onehot the categoricals\n",
    "patients['SARS-Cov-2 exam result'] = patients['SARS-Cov-2 exam result'].map({'negative':0, 'positive':1})\n",
    "patients['Influenza B, rapid test'] = patients['Influenza B, rapid test'].map({'negative':0, 'positive':1})\n",
    "patients['Influenza A, rapid test'] = patients['Influenza A, rapid test'].map({'negative':0, 'positive':1})\n",
    "\n",
    "# Impute residual missing data\n",
    "patients['Proteina C reativa mg/dL'].fillna(np.mean(patients['Proteina C reativa mg/dL']), inplace=True)\n",
    "patients['Monocytes'].fillna(np.mean(patients['Monocytes']), inplace=True)\n",
    "patients['Mean platelet volume '].fillna(np.mean(patients['Mean platelet volume ']), inplace=True)\n",
    "patients['Neutrophils'].fillna(np.mean(patients['Neutrophils']), inplace=True)\n",
    "\n",
    "patients['Influenza B, rapid test'].fillna(0, inplace=True)\n",
    "patients['Influenza A, rapid test'].fillna(0, inplace=True)\n",
    "\n",
    "y = patients['SARS-Cov-2 exam result']\n",
    "X = patients.drop(['SARS-Cov-2 exam result'], axis=1)"
   ]
  },
  {
   "cell_type": "markdown",
   "id": "aa4d4e98-9a0f-4f19-aeaf-7ce5c2037c4f",
   "metadata": {},
   "source": [
    "Neural networks are sensitive to features on different scales. In addition to the pre-processing above, we will also utilise the StandardScaler from sklearn to center and z-score the features."
   ]
  },
  {
   "cell_type": "code",
   "execution_count": 8,
   "id": "b3b35912-bd9e-465d-a366-1f0b8223b5de",
   "metadata": {},
   "outputs": [],
   "source": [
    "scaler = StandardScaler()\n",
    "X_scaled = scaler.fit_transform(X)"
   ]
  },
  {
   "cell_type": "markdown",
   "id": "fc1aa544-a0de-4897-9c60-cee7530e1dde",
   "metadata": {},
   "source": [
    "Finally, split into test and train sets."
   ]
  },
  {
   "cell_type": "code",
   "execution_count": 12,
   "id": "b2560a9b-c9cb-45ec-926d-65e6417f0ad3",
   "metadata": {},
   "outputs": [],
   "source": [
    "rs=42\n",
    "\n",
    "X_train, X_test, y_train, y_test = train_test_split(X_scaled, y, test_size=0.3, stratify=y, random_state=rs)"
   ]
  },
  {
   "cell_type": "markdown",
   "id": "22aa57d3-db0e-4a45-ad3f-d846ab803bd8",
   "metadata": {},
   "source": [
    "### Construction of the Multilayer Perceptron NNs for classification\n",
    "#### Default MLP"
   ]
  },
  {
   "cell_type": "code",
   "execution_count": 88,
   "id": "56f7c285-d0a4-4a37-aaa5-1b39a15fc2b0",
   "metadata": {},
   "outputs": [
    {
     "name": "stdout",
     "output_type": "stream",
     "text": [
      "Train accuracy: 0.9548693586698337\n",
      "Test accuracy: 0.8729281767955801\n",
      "              precision    recall  f1-score   support\n",
      "\n",
      "           0       0.91      0.94      0.93       156\n",
      "           1       0.55      0.44      0.49        25\n",
      "\n",
      "    accuracy                           0.87       181\n",
      "   macro avg       0.73      0.69      0.71       181\n",
      "weighted avg       0.86      0.87      0.87       181\n",
      "\n",
      "MLPClassifier(random_state=42)\n"
     ]
    },
    {
     "name": "stderr",
     "output_type": "stream",
     "text": [
      "C:\\Users\\swheb\\anaconda3\\lib\\site-packages\\sklearn\\neural_network\\_multilayer_perceptron.py:614: ConvergenceWarning: Stochastic Optimizer: Maximum iterations (200) reached and the optimization hasn't converged yet.\n",
      "  warnings.warn(\n"
     ]
    }
   ],
   "source": [
    "model_1 = MLPClassifier(random_state=rs)\n",
    "model_1.fit(X_train, y_train)\n",
    "\n",
    "print(\"Train accuracy:\", model_1.score(X_train, y_train))\n",
    "print(\"Test accuracy:\", model_1.score(X_test, y_test))\n",
    "\n",
    "y_pred = model_1.predict(X_test)\n",
    "print(classification_report(y_test, y_pred))\n",
    "\n",
    "print(model_1)"
   ]
  },
  {
   "cell_type": "code",
   "execution_count": 84,
   "id": "6ddc351c-1bca-4b27-9f2b-ad787b4560e1",
   "metadata": {},
   "outputs": [
    {
     "name": "stdout",
     "output_type": "stream",
     "text": [
      "Train accuracy: 1.0\n",
      "Test accuracy: 0.8674033149171271\n",
      "              precision    recall  f1-score   support\n",
      "\n",
      "           0       0.92      0.93      0.92       156\n",
      "           1       0.52      0.48      0.50        25\n",
      "\n",
      "    accuracy                           0.87       181\n",
      "   macro avg       0.72      0.70      0.71       181\n",
      "weighted avg       0.86      0.87      0.87       181\n",
      "\n",
      "MLPClassifier(max_iter=1000, random_state=42)\n"
     ]
    }
   ],
   "source": [
    "model_2 = MLPClassifier(random_state=rs, max_iter=1000, early_stopping=False)\n",
    "model_2.fit(X_train, y_train)\n",
    "\n",
    "print(\"Train accuracy:\", model_2.score(X_train, y_train))\n",
    "print(\"Test accuracy:\", model_2.score(X_test, y_test))\n",
    "\n",
    "y_pred = model_2.predict(X_test)\n",
    "print(classification_report(y_test, y_pred))\n",
    "\n",
    "print(model_2)"
   ]
  },
  {
   "cell_type": "code",
   "execution_count": 86,
   "id": "5c635598-2c79-4f11-8696-94696133396d",
   "metadata": {},
   "outputs": [
    {
     "data": {
      "text/plain": [
       "704"
      ]
     },
     "execution_count": 86,
     "metadata": {},
     "output_type": "execute_result"
    }
   ],
   "source": [
    "model_2.n_iter_"
   ]
  },
  {
   "cell_type": "code",
   "execution_count": 87,
   "id": "40b9936c-096a-4023-ac42-66e28daaa3cf",
   "metadata": {},
   "outputs": [
    {
     "data": {
      "text/plain": [
       "{'activation': 'relu',\n",
       " 'alpha': 0.0001,\n",
       " 'batch_size': 'auto',\n",
       " 'beta_1': 0.9,\n",
       " 'beta_2': 0.999,\n",
       " 'early_stopping': False,\n",
       " 'epsilon': 1e-08,\n",
       " 'hidden_layer_sizes': (100,),\n",
       " 'learning_rate': 'constant',\n",
       " 'learning_rate_init': 0.001,\n",
       " 'max_fun': 15000,\n",
       " 'max_iter': 1000,\n",
       " 'momentum': 0.9,\n",
       " 'n_iter_no_change': 10,\n",
       " 'nesterovs_momentum': True,\n",
       " 'power_t': 0.5,\n",
       " 'random_state': 42,\n",
       " 'shuffle': True,\n",
       " 'solver': 'adam',\n",
       " 'tol': 0.0001,\n",
       " 'validation_fraction': 0.1,\n",
       " 'verbose': False,\n",
       " 'warm_start': False}"
      ]
     },
     "execution_count": 87,
     "metadata": {},
     "output_type": "execute_result"
    }
   ],
   "source": [
    "model_2.get_params()"
   ]
  },
  {
   "cell_type": "markdown",
   "id": "ac6a98ff-ebf9-46d8-b00e-2236be18387f",
   "metadata": {},
   "source": [
    "#### Refining the MLP with GridSearchCV"
   ]
  },
  {
   "cell_type": "code",
   "execution_count": 17,
   "id": "fec1f86c-9edd-45b9-8e27-a80c41aeae1e",
   "metadata": {},
   "outputs": [
    {
     "name": "stdout",
     "output_type": "stream",
     "text": [
      "(421, 19)\n"
     ]
    }
   ],
   "source": [
    "print(X_train.shape)"
   ]
  },
  {
   "cell_type": "code",
   "execution_count": 90,
   "id": "2c1c009b-fcc4-4917-b930-4fee5c3cc1da",
   "metadata": {},
   "outputs": [
    {
     "name": "stdout",
     "output_type": "stream",
     "text": [
      "{'hidden_layer_sizes': (15,)}\n",
      "Train accuracy: 0.9881235154394299\n",
      "Test accuracy: 0.861878453038674\n",
      "              precision    recall  f1-score   support\n",
      "\n",
      "           0       0.91      0.93      0.92       156\n",
      "           1       0.50      0.44      0.47        25\n",
      "\n",
      "    accuracy                           0.86       181\n",
      "   macro avg       0.71      0.68      0.69       181\n",
      "weighted avg       0.86      0.86      0.86       181\n",
      "\n"
     ]
    }
   ],
   "source": [
    "params = {'hidden_layer_sizes': [(x,) for x in range(1, 20, 2)]}\n",
    "\n",
    "cv_1 = GridSearchCV(param_grid=params, estimator=MLPClassifier(random_state=rs, max_iter=1500),return_train_score=True, cv=10, n_jobs=-1)\n",
    "cv_1.fit(X_train, y_train)\n",
    "\n",
    "print(cv_1.best_params_)\n",
    "\n",
    "print(\"Train accuracy:\", cv_1.score(X_train, y_train))\n",
    "print(\"Test accuracy:\", cv_1.score(X_test, y_test))\n",
    "\n",
    "y_pred = cv_1.predict(X_test)\n",
    "print(classification_report(y_test, y_pred))"
   ]
  },
  {
   "cell_type": "code",
   "execution_count": 91,
   "id": "4494b40f-fcca-4700-81dd-2aeec61a9218",
   "metadata": {},
   "outputs": [
    {
     "data": {
      "text/plain": [
       "1181"
      ]
     },
     "execution_count": 91,
     "metadata": {},
     "output_type": "execute_result"
    }
   ],
   "source": [
    "cv_1.best_estimator_.n_iter_"
   ]
  },
  {
   "cell_type": "code",
   "execution_count": 92,
   "id": "a9bc77f6-481c-4934-851d-0e385097f6f3",
   "metadata": {},
   "outputs": [
    {
     "name": "stdout",
     "output_type": "stream",
     "text": [
      "Total number of models:  10\n"
     ]
    },
    {
     "data": {
      "image/png": "[encoded data removed]",
      "text/plain": [
       "<Figure size 432x288 with 1 Axes>"
      ]
     },
     "metadata": {
      "needs_background": "light"
     },
     "output_type": "display_data"
    }
   ],
   "source": [
    "result_set = cv_1.cv_results_\n",
    "train_result = result_set['mean_train_score']\n",
    "test_result = result_set['mean_test_score']\n",
    "print(\"Total number of models: \", len(test_result))\n",
    "# plot hidden layers hyperparameter values vs training and test accuracy score\n",
    "plt.plot(range(0, len(train_result)), train_result, 'b', range(0,len(test_result)), test_result, 'r')\n",
    "plt.xlabel('Hyperparameter Hidden_layers\\nBlue = training acc. Red = test acc.')\n",
    "plt.xticks(range(0, len(train_result)),range(1, 20, 2))\n",
    "plt.ylabel('score')\n",
    "plt.show()"
   ]
  },
  {
   "cell_type": "markdown",
   "id": "cf9eaf27-b451-4e20-b571-a2629e2d8bea",
   "metadata": {},
   "source": [
    "Model performance is pretty flat on the test data, with evidence of overfitting on with greater hidden neurons."
   ]
  },
  {
   "cell_type": "code",
   "execution_count": 76,
   "id": "7de90386-5e3d-4869-b369-b820c601b266",
   "metadata": {},
   "outputs": [
    {
     "name": "stdout",
     "output_type": "stream",
     "text": [
      "{'alpha': 0.01, 'early_stopping': False, 'hidden_layer_sizes': (6,)}\n",
      "Train accuracy: 0.9311163895486936\n",
      "Test accuracy: 0.8729281767955801\n",
      "              precision    recall  f1-score   support\n",
      "\n",
      "           0       0.92      0.94      0.93       156\n",
      "           1       0.55      0.48      0.51        25\n",
      "\n",
      "    accuracy                           0.87       181\n",
      "   macro avg       0.73      0.71      0.72       181\n",
      "weighted avg       0.87      0.87      0.87       181\n",
      "\n"
     ]
    }
   ],
   "source": [
    "params = {'hidden_layer_sizes': [(x,) for x in range(1, 15, 1)],\n",
    "          'alpha': [0.1,0.01,0.001, 0.0001, 0.00001],\n",
    "          'early_stopping':[True, False]}\n",
    "\n",
    "cv_2 = GridSearchCV(param_grid=params, estimator=MLPClassifier(random_state=rs, max_iter=1500),return_train_score=True, cv=10, n_jobs=-1)\n",
    "cv_2.fit(X_train, y_train)\n",
    "\n",
    "print(cv_2.best_params_)\n",
    "\n",
    "print(\"Train accuracy:\", cv_2.score(X_train, y_train))\n",
    "print(\"Test accuracy:\", cv_2.score(X_test, y_test))\n",
    "\n",
    "y_pred = cv_2.predict(X_test)\n",
    "print(classification_report(y_test, y_pred))"
   ]
  },
  {
   "cell_type": "code",
   "execution_count": 77,
   "id": "a55ae2c1-c5a7-4776-af47-0e4aa3bf6a3f",
   "metadata": {},
   "outputs": [
    {
     "data": {
      "text/plain": [
       "611"
      ]
     },
     "execution_count": 77,
     "metadata": {},
     "output_type": "execute_result"
    }
   ],
   "source": [
    "cv_2.best_estimator_.n_iter_"
   ]
  },
  {
   "cell_type": "markdown",
   "id": "864a1978-8201-4204-a443-c875e93a4430",
   "metadata": {},
   "source": [
    "#### Feature selection + GridSearchCV"
   ]
  },
  {
   "cell_type": "code",
   "execution_count": 78,
   "id": "5801f423-8667-47eb-8b4f-a02c2420e94a",
   "metadata": {},
   "outputs": [
    {
     "name": "stdout",
     "output_type": "stream",
     "text": [
      "{'criterion': 'gini', 'max_depth': 7, 'min_samples_leaf': 5}\n"
     ]
    }
   ],
   "source": [
    "# Load the best DT model\n",
    "\n",
    "with open('best_DT.pickle', 'rb') as f:\n",
    "    dt_best,roc_index_dt_cv, fpr_dt_cv, tpr_dt_cv = pickle.load(f)\n",
    "\n",
    "print(dt_best.best_params_)"
   ]
  },
  {
   "cell_type": "code",
   "execution_count": 79,
   "id": "a181d726-a91b-43b4-9b0f-10d591fa8777",
   "metadata": {},
   "outputs": [
    {
     "name": "stdout",
     "output_type": "stream",
     "text": [
      "Leukocytes : 0.4089585552868492\n",
      "Hematocrit : 0.20902736875407826\n",
      "Red blood Cells : 0.11130327318449142\n",
      "Mean platelet volume  : 0.09853569124025148\n",
      "Eosinophils : 0.04863091889081274\n",
      "Basophils : 0.03899693963830857\n",
      "Platelets : 0.027519705001727124\n",
      "Patient age quantile : 0.020966136295147035\n",
      "Lymphocytes : 0.018258229680119076\n",
      "Mean corpuscular hemoglobin (MCH) : 0.010462900283480419\n",
      "Red blood cell distribution width (RDW) : 0.007340281744734588\n",
      "Influenza B, rapid test : 0.0\n",
      "Mean corpuscular volume (MCV) : 0.0\n",
      "Mean corpuscular hemoglobin concentration (MCHC) : 0.0\n",
      "Monocytes : 0.0\n",
      "Hemoglobin : 0.0\n",
      "Neutrophils : 0.0\n",
      "Proteina C reativa mg/dL : 0.0\n",
      "Influenza A, rapid test : 0.0\n"
     ]
    }
   ],
   "source": [
    "analyse_feature_importance(dt_best.best_estimator_, X.columns)"
   ]
  },
  {
   "cell_type": "code",
   "execution_count": 80,
   "id": "c7a3d979-463a-48f5-aef4-7d36c37b0001",
   "metadata": {},
   "outputs": [
    {
     "name": "stdout",
     "output_type": "stream",
     "text": [
      "(421, 4)\n"
     ]
    }
   ],
   "source": [
    "selectmodel = SelectFromModel(dt_best.best_estimator_, prefit=True)\n",
    "X_train_sel_model = selectmodel.transform(X_train)\n",
    "X_test_sel_model = selectmodel.transform(X_test)\n",
    "\n",
    "print(X_train_sel_model.shape)"
   ]
  },
  {
   "cell_type": "code",
   "execution_count": 81,
   "id": "b4555208-ae13-4471-9155-597825880e75",
   "metadata": {},
   "outputs": [
    {
     "data": {
      "text/plain": [
       "Index(['Mean platelet volume ', 'Red blood Cells', 'Leukocytes', 'Hematocrit'], dtype='object')"
      ]
     },
     "execution_count": 81,
     "metadata": {},
     "output_type": "execute_result"
    }
   ],
   "source": [
    "# Features selected\n",
    "X.columns[selectmodel.get_support()]"
   ]
  },
  {
   "cell_type": "code",
   "execution_count": 82,
   "id": "58b7a882-0c47-48c2-90de-003f22f9d7b1",
   "metadata": {},
   "outputs": [
    {
     "name": "stdout",
     "output_type": "stream",
     "text": [
      "Train accuracy: 0.8836104513064132\n",
      "Test accuracy: 0.850828729281768\n",
      "              precision    recall  f1-score   support\n",
      "\n",
      "           0       0.88      0.96      0.92       156\n",
      "           1       0.42      0.20      0.27        25\n",
      "\n",
      "    accuracy                           0.85       181\n",
      "   macro avg       0.65      0.58      0.59       181\n",
      "weighted avg       0.82      0.85      0.83       181\n",
      "\n",
      "{'alpha': 0.01, 'early_stopping': False, 'hidden_layer_sizes': (13,)}\n"
     ]
    }
   ],
   "source": [
    "params = {'hidden_layer_sizes': [(x,) for x in range(1, 15, 1)],\n",
    "          'alpha': [0.01,0.001, 0.0001, 0.00001],\n",
    "          'early_stopping':[True, False]}\n",
    "\n",
    "cv_sel_model = GridSearchCV(param_grid=params, estimator=MLPClassifier(random_state=rs, max_iter=1500), cv=10, n_jobs=-1)\n",
    "cv_sel_model.fit(X_train_sel_model, y_train)\n",
    "\n",
    "print(\"Train accuracy:\", cv_sel_model.score(X_train_sel_model, y_train))\n",
    "print(\"Test accuracy:\", cv_sel_model.score(X_test_sel_model, y_test))\n",
    "\n",
    "y_pred = cv_sel_model.predict(X_test_sel_model)\n",
    "print(classification_report(y_test, y_pred))\n",
    "\n",
    "print(cv_sel_model.best_params_)"
   ]
  },
  {
   "cell_type": "code",
   "execution_count": 83,
   "id": "494b3db4-399c-4dca-b72e-564e4a9ae251",
   "metadata": {},
   "outputs": [
    {
     "data": {
      "text/plain": [
       "316"
      ]
     },
     "execution_count": 83,
     "metadata": {},
     "output_type": "execute_result"
    }
   ],
   "source": [
    "cv_sel_model.best_estimator_.n_iter_"
   ]
  },
  {
   "cell_type": "markdown",
   "id": "7998123e-209f-450d-bb84-8443c8e8a36e",
   "metadata": {},
   "source": [
    "#### Plot ROC curves"
   ]
  },
  {
   "cell_type": "code",
   "execution_count": 93,
   "id": "f28c384c-8978-40d1-8753-12afaa3b4473",
   "metadata": {},
   "outputs": [
    {
     "name": "stdout",
     "output_type": "stream",
     "text": [
      "ROC index on test for NN_default: 0.8076923076923077\n",
      "ROC index on test for NN with relu: 0.798974358974359\n",
      "ROC index on test for NN with gridsearch 1: 0.8174358974358974\n",
      "ROC index on test for NN with gridsearch 2: 0.8015384615384615\n",
      "ROC index on test for NN with feature selection (model selection) and gridsearch: 0.7269230769230769\n"
     ]
    }
   ],
   "source": [
    "y_pred_proba_nn_1 = model_1.predict_proba(X_test)\n",
    "y_pred_proba_nn_2 = model_2.predict_proba(X_test)\n",
    "y_pred_proba_cv_1 = cv_1.predict_proba(X_test)\n",
    "y_pred_proba_cv_2 = cv_2.predict_proba(X_test)\n",
    "y_pred_proba_cv_sel_model = cv_sel_model.predict_proba(X_test_sel_model)\n",
    "\n",
    "\n",
    "roc_index_nn_1 = roc_auc_score(y_test, y_pred_proba_nn_1[:, 1])\n",
    "roc_index_nn_2 = roc_auc_score(y_test, y_pred_proba_nn_2[:, 1])\n",
    "roc_index_cv_1 = roc_auc_score(y_test, y_pred_proba_cv_1[:, 1])\n",
    "roc_index_cv_2 = roc_auc_score(y_test, y_pred_proba_cv_2[:, 1])\n",
    "roc_index_cv_sel_model = roc_auc_score(y_test, y_pred_proba_cv_sel_model[:, 1])\n",
    "\n",
    "\n",
    "print(\"ROC index on test for NN_default:\", roc_index_nn_1)\n",
    "print(\"ROC index on test for NN with relu:\", roc_index_nn_2)\n",
    "print(\"ROC index on test for NN with gridsearch 1:\", roc_index_cv_1)\n",
    "print(\"ROC index on test for NN with gridsearch 2:\", roc_index_cv_2)\n",
    "print(\"ROC index on test for NN with feature selection (model selection) and gridsearch:\", roc_index_cv_sel_model)\n",
    "\n",
    "fpr_nn_1, tpr_nn_1, thresholds_nn_1 = roc_curve(y_test, y_pred_proba_nn_1[:,1])\n",
    "fpr_nn_2, tpr_nn_2, thresholds_nn_2 = roc_curve(y_test, y_pred_proba_nn_2[:,1])\n",
    "fpr_cv_1, tpr_cv_1, thresholds_cv_1 = roc_curve(y_test, y_pred_proba_cv_1[:,1])\n",
    "fpr_cv_2, tpr_cv_2, thresholds_cv_2 = roc_curve(y_test, y_pred_proba_cv_2[:,1])\n",
    "fpr_cv_sel_model, tpr_cv_sel_model, thresholds_cv_sel_model = roc_curve(y_test, y_pred_proba_cv_sel_model[:,1])"
   ]
  },
  {
   "cell_type": "code",
   "execution_count": 95,
   "id": "43f9d4e9-afeb-4a76-94dc-d28d838fe365",
   "metadata": {},
   "outputs": [
    {
     "data": {
      "image/png": "[encoded data removed]",
      "text/plain": [
       "<Figure size 720x720 with 1 Axes>"
      ]
     },
     "metadata": {
      "needs_background": "light"
     },
     "output_type": "display_data"
    }
   ],
   "source": [
    "fig, ax = plt.subplots(figsize=(10,10))\n",
    "\n",
    "ax.plot(fpr_nn_1, tpr_nn_1, label='NN_default AUC: {:.3f}'.format(roc_index_nn_1), color='red', lw=0.5)\n",
    "ax.plot(fpr_nn_2, tpr_nn_2, label='NN_default converged AUC: {:.3f}'.format(roc_index_nn_2), color='green', lw=0.5)\n",
    "ax.plot(fpr_cv_1, tpr_cv_1, label='NN cv_1 AUC: {:.3f}'.format(roc_index_cv_1), color='blue', lw=0.5)\n",
    "ax.plot(fpr_cv_2, tpr_cv_2, label='NN cv_2 AUC: {:.3f}'.format(roc_index_cv_2), color='yellow', lw=0.5)\n",
    "ax.plot(fpr_cv_sel_model, tpr_cv_sel_model, label='NN with cv_sel_model AUC: {:.3f}'.format(roc_index_cv_sel_model), color='black', lw=0.5)\n",
    "\n",
    "\n",
    "ax.plot([0, 1], [0, 1], color='navy', lw=1, linestyle='--')\n",
    "ax.set_xlim([0.0, 1.0])\n",
    "ax.set_ylim([0.0, 1.0])\n",
    "ax.set_xlabel('False Positive Rate')\n",
    "ax.set_ylabel('True Positive Rate')\n",
    "ax.set_title('Receiver operating characteristics of Neural Networks for predictving COVID positive patients')\n",
    "ax.legend(loc=\"lower right\")\n",
    "\n",
    "plt.show()"
   ]
  },
  {
   "cell_type": "code",
   "execution_count": null,
   "id": "95404a28-8dcc-4381-90ad-d484fd8fba2d",
   "metadata": {},
   "outputs": [],
   "source": []
  }
 ],
 "metadata": {
  "kernelspec": {
   "display_name": "Python 3",
   "language": "python",
   "name": "python3"
  },
  "language_info": {
   "codemirror_mode": {
    "name": "ipython",
    "version": 3
   },
   "file_extension": ".py",
   "mimetype": "text/x-python",
   "name": "python",
   "nbconvert_exporter": "python",
   "pygments_lexer": "ipython3",
   "version": "3.8.10"
  }
 },
 "nbformat": 4,
 "nbformat_minor": 5
}
