{
 "cells": [
  {
   "cell_type": "markdown",
   "id": "908570cd-4bd5-43f6-9db4-6f9f9c892b83",
   "metadata": {},
   "source": [
    "# Activity 5.9\n",
    "## Association Mining of South Korean COVID-19 case route data"
   ]
  },
  {
   "cell_type": "code",
   "execution_count": 18,
   "id": "f625b21e-9626-4148-ad08-08f8cae7f7c4",
   "metadata": {},
   "outputs": [],
   "source": [
    "# Imports\n",
    "\n",
    "import pandas as pd\n",
    "\n",
    "import matplotlib.pyplot as plt\n",
    "\n",
    "from apyori import apriori\n",
    "\n",
    "from collections import defaultdict\n",
    "import subprocess\n",
    "import re"
   ]
  },
  {
   "cell_type": "code",
   "execution_count": 19,
   "id": "16cf7f5d-494a-4f71-832f-cc99bb55ee93",
   "metadata": {},
   "outputs": [],
   "source": [
    "# Load the data\n",
    "\n",
    "route_df = pd.read_csv('data/PatientRoute-1.csv')"
   ]
  },
  {
   "cell_type": "markdown",
   "id": "bf78a2b1-4497-4e41-afbe-57324875581b",
   "metadata": {},
   "source": [
    "### Examine the structure and content of the dataset"
   ]
  },
  {
   "cell_type": "code",
   "execution_count": 20,
   "id": "f63c700e-19ce-483f-a957-6634d42472d3",
   "metadata": {},
   "outputs": [
    {
     "data": {
      "text/html": [
       "<div>\n",
       "<style scoped>\n",
       "    .dataframe tbody tr th:only-of-type {\n",
       "        vertical-align: middle;\n",
       "    }\n",
       "\n",
       "    .dataframe tbody tr th {\n",
       "        vertical-align: top;\n",
       "    }\n",
       "\n",
       "    .dataframe thead th {\n",
       "        text-align: right;\n",
       "    }\n",
       "</style>\n",
       "<table border=\"1\" class=\"dataframe\">\n",
       "  <thead>\n",
       "    <tr style=\"text-align: right;\">\n",
       "      <th></th>\n",
       "      <th>patient_id</th>\n",
       "      <th>global_num</th>\n",
       "      <th>date</th>\n",
       "      <th>location</th>\n",
       "      <th>latitude</th>\n",
       "      <th>longitude</th>\n",
       "    </tr>\n",
       "  </thead>\n",
       "  <tbody>\n",
       "    <tr>\n",
       "      <th>0</th>\n",
       "      <td>1000000001</td>\n",
       "      <td>2.0</td>\n",
       "      <td>22/01/2020</td>\n",
       "      <td>Gyeonggi-do_Gimpo-si</td>\n",
       "      <td>37.615246</td>\n",
       "      <td>126.715632</td>\n",
       "    </tr>\n",
       "    <tr>\n",
       "      <th>1</th>\n",
       "      <td>1000000001</td>\n",
       "      <td>2.0</td>\n",
       "      <td>24/01/2020</td>\n",
       "      <td>Seoul_Jung-gu</td>\n",
       "      <td>37.567241</td>\n",
       "      <td>127.005659</td>\n",
       "    </tr>\n",
       "    <tr>\n",
       "      <th>2</th>\n",
       "      <td>1000000002</td>\n",
       "      <td>5.0</td>\n",
       "      <td>25/01/2020</td>\n",
       "      <td>Seoul_Seongbuk-gu</td>\n",
       "      <td>37.592560</td>\n",
       "      <td>127.017048</td>\n",
       "    </tr>\n",
       "    <tr>\n",
       "      <th>3</th>\n",
       "      <td>1000000002</td>\n",
       "      <td>5.0</td>\n",
       "      <td>26/01/2020</td>\n",
       "      <td>Seoul_Seongbuk-gu</td>\n",
       "      <td>37.591810</td>\n",
       "      <td>127.016822</td>\n",
       "    </tr>\n",
       "    <tr>\n",
       "      <th>4</th>\n",
       "      <td>1000000002</td>\n",
       "      <td>5.0</td>\n",
       "      <td>26/01/2020</td>\n",
       "      <td>Seoul_Seongdong-gu</td>\n",
       "      <td>37.563992</td>\n",
       "      <td>127.029534</td>\n",
       "    </tr>\n",
       "  </tbody>\n",
       "</table>\n",
       "</div>"
      ],
      "text/plain": [
       "   patient_id  global_num        date              location   latitude  \\\n",
       "0  1000000001         2.0  22/01/2020  Gyeonggi-do_Gimpo-si  37.615246   \n",
       "1  1000000001         2.0  24/01/2020         Seoul_Jung-gu  37.567241   \n",
       "2  1000000002         5.0  25/01/2020     Seoul_Seongbuk-gu  37.592560   \n",
       "3  1000000002         5.0  26/01/2020     Seoul_Seongbuk-gu  37.591810   \n",
       "4  1000000002         5.0  26/01/2020    Seoul_Seongdong-gu  37.563992   \n",
       "\n",
       "    longitude  \n",
       "0  126.715632  \n",
       "1  127.005659  \n",
       "2  127.017048  \n",
       "3  127.016822  \n",
       "4  127.029534  "
      ]
     },
     "execution_count": 20,
     "metadata": {},
     "output_type": "execute_result"
    }
   ],
   "source": [
    "# Examine the structure of the dataset\n",
    "route_df.head(5)"
   ]
  },
  {
   "cell_type": "code",
   "execution_count": 21,
   "id": "a1c7f921-1b77-4c97-93b4-5b0611df27d7",
   "metadata": {},
   "outputs": [
    {
     "name": "stdout",
     "output_type": "stream",
     "text": [
      "<class 'pandas.core.frame.DataFrame'>\n",
      "RangeIndex: 6714 entries, 0 to 6713\n",
      "Data columns (total 6 columns):\n",
      " #   Column      Non-Null Count  Dtype  \n",
      "---  ------      --------------  -----  \n",
      " 0   patient_id  6714 non-null   int64  \n",
      " 1   global_num  3571 non-null   float64\n",
      " 2   date        6714 non-null   object \n",
      " 3   location    6714 non-null   object \n",
      " 4   latitude    6714 non-null   float64\n",
      " 5   longitude   6714 non-null   float64\n",
      "dtypes: float64(3), int64(1), object(2)\n",
      "memory usage: 314.8+ KB\n"
     ]
    }
   ],
   "source": [
    "route_df.info()"
   ]
  },
  {
   "cell_type": "code",
   "execution_count": 22,
   "id": "754ea897-382d-4ee9-b114-1044399bc22d",
   "metadata": {},
   "outputs": [],
   "source": [
    "route_df.date = pd.to_datetime(route_df.date)"
   ]
  },
  {
   "cell_type": "code",
   "execution_count": 23,
   "id": "b0e07149-1c07-46b7-9576-19ba0c1812d8",
   "metadata": {},
   "outputs": [
    {
     "name": "stdout",
     "output_type": "stream",
     "text": [
      "In this dataset there are 6714 datapoints for 1211 unique patients and 174 unique locations.\n"
     ]
    }
   ],
   "source": [
    "num_patients = len(route_df.patient_id.unique())\n",
    "num_locations = len(route_df.location.unique())\n",
    "\n",
    "print(f\"In this dataset there are {len(route_df)} datapoints for {num_patients} unique patients and {num_locations} unique locations.\")"
   ]
  },
  {
   "cell_type": "code",
   "execution_count": 24,
   "id": "71a8ae97-6889-426d-9d59-cd4f3069f38e",
   "metadata": {},
   "outputs": [
    {
     "data": {
      "text/plain": [
       "Chungcheongnam-do_Cheonan-si       470\n",
       "Seoul_Gangnam-gu                   293\n",
       "Gangwon-do_Wonju-si                275\n",
       "Gyeongsangbuk-do_Yecheon-gun       257\n",
       "Seoul_Guro-gu                      206\n",
       "                                  ... \n",
       "Jeollabuk-do_Iksan-si                1\n",
       "Gyeongsangbuk-do_Cheongsong-gun      1\n",
       "Gyeongsangbuk-do_Gimcheon-si         1\n",
       "Busan_Yeongdo-gu                     1\n",
       "Gyeongsangnam-do_Goseong-gun         1\n",
       "Name: location, Length: 174, dtype: int64"
      ]
     },
     "execution_count": 24,
     "metadata": {},
     "output_type": "execute_result"
    }
   ],
   "source": [
    "route_df.location.value_counts()"
   ]
  },
  {
   "cell_type": "code",
   "execution_count": 25,
   "id": "e3a7fa85-ecaa-44e0-b5ea-8644e496fd3e",
   "metadata": {},
   "outputs": [
    {
     "data": {
      "image/png": "[encoded data removed]",
      "text/plain": [
       "<Figure size 1440x720 with 1 Axes>"
      ]
     },
     "metadata": {
      "needs_background": "light"
     },
     "output_type": "display_data"
    }
   ],
   "source": [
    "# How often do unique locations appear in the dataset?\n",
    "plt.figure(figsize=(20,10))\n",
    "\n",
    "route_df.location.value_counts().plot(kind='hist', bins=100)\n",
    "\n",
    "plt.xticks(range(0,500, 10))\n",
    "\n",
    "plt.xlabel(\"Number of times location observed\")\n",
    "plt.ylabel(\"Number of locations\")\n",
    "\n",
    "plt.xlim(0,470)\n",
    "\n",
    "plt.savefig(\"\")\n",
    "\n",
    "plt.show()"
   ]
  },
  {
   "cell_type": "code",
   "execution_count": 26,
   "id": "2e479ae8-d14a-4ebc-b120-17af04f2db7d",
   "metadata": {},
   "outputs": [
    {
     "data": {
      "text/plain": [
       "<AxesSubplot:ylabel='Frequency'>"
      ]
     },
     "execution_count": 26,
     "metadata": {},
     "output_type": "execute_result"
    },
    {
     "data": {
      "image/png": "[encoded data removed]",
      "text/plain": [
       "<Figure size 432x288 with 1 Axes>"
      ]
     },
     "metadata": {
      "needs_background": "light"
     },
     "output_type": "display_data"
    }
   ],
   "source": [
    "# Examining where the bulk of the data lies\n",
    "\n",
    "route_df.location.value_counts().plot(kind='hist', bins=100, xlim=(0,50))"
   ]
  },
  {
   "cell_type": "markdown",
   "id": "0ba16322-4134-46a1-aaf9-03ce8d048416",
   "metadata": {},
   "source": [
    "### Apriori algorithm association mining"
   ]
  },
  {
   "cell_type": "code",
   "execution_count": 27,
   "id": "8f0f30cf-e2a0-425b-8b2f-03417f4fb376",
   "metadata": {},
   "outputs": [
    {
     "data": {
      "text/plain": [
       "patient_id\n",
       "1000000001                [Gyeonggi-do_Gimpo-si, Seoul_Jung-gu]\n",
       "1000000002    [Seoul_Seongbuk-gu, Seoul_Seongbuk-gu, Seoul_S...\n",
       "1000000003                   [Seoul_Jongno-gu, Seoul_Jongno-gu]\n",
       "1000000004                                  [Seoul_Jungnang-gu]\n",
       "1000000005                                  [Seoul_Jungnang-gu]\n",
       "Name: location, dtype: object"
      ]
     },
     "execution_count": 27,
     "metadata": {},
     "output_type": "execute_result"
    }
   ],
   "source": [
    "# We can consider each patient as a transaction, and convert the locations they visited into a list\n",
    "\n",
    "routes = route_df.groupby(['patient_id'])['location'].apply(list)\n",
    "\n",
    "routes.head(5)"
   ]
  },
  {
   "cell_type": "markdown",
   "id": "afa067e2-ad89-4e07-9212-be89e59b619c",
   "metadata": {},
   "source": [
    "#### What is the ‘min_support’ threshold set? Discuss why it is chosen.\n",
    "Despite the reasonably large number of patients and unique locations, examining the histogram above we can see that many locations are reported relatively few times. A large proportion of the locations are reported less than 10 times. Given this in conjunction with the importance of identifying travel between areas for tracking the spread of COVID-19, we will want a relatively low support threshold. To start with, let us examine all locations that occur at least twice in the dataset. Calculating our support threshold in this manner -> 2 / 1211 = 0.00165"
   ]
  },
  {
   "cell_type": "markdown",
   "id": "90a55e27-a308-4068-8e83-121f0772a32d",
   "metadata": {},
   "source": [
    "##### Further data preparation and running of the apriori algorithm"
   ]
  },
  {
   "cell_type": "code",
   "execution_count": 28,
   "id": "47e9a42e-351d-49af-b2d4-e75193ce3d22",
   "metadata": {},
   "outputs": [],
   "source": [
    "# Conver the routes into a list that can be utilised by the apyori package\n",
    "\n",
    "routes_list = list(routes)"
   ]
  },
  {
   "cell_type": "code",
   "execution_count": 29,
   "id": "1964eba4-d576-405a-bd62-ee74df55e7b8",
   "metadata": {},
   "outputs": [
    {
     "name": "stdout",
     "output_type": "stream",
     "text": [
      "[RelationRecord(items=frozenset({'Busan_Buk-gu'}), support=0.008257638315441783, ordered_statistics=[OrderedStatistic(items_base=frozenset(), items_add=frozenset({'Busan_Buk-gu'}), confidence=0.008257638315441783, lift=1.0)]), RelationRecord(items=frozenset({'Busan_Busanjin-gu'}), support=0.017341040462427744, ordered_statistics=[OrderedStatistic(items_base=frozenset(), items_add=frozenset({'Busan_Busanjin-gu'}), confidence=0.017341040462427744, lift=1.0)]), RelationRecord(items=frozenset({'Busan_Dong-gu'}), support=0.011560693641618497, ordered_statistics=[OrderedStatistic(items_base=frozenset(), items_add=frozenset({'Busan_Dong-gu'}), confidence=0.011560693641618497, lift=1.0)]), RelationRecord(items=frozenset({'Busan_Dongnae-gu'}), support=0.03468208092485549, ordered_statistics=[OrderedStatistic(items_base=frozenset(), items_add=frozenset({'Busan_Dongnae-gu'}), confidence=0.03468208092485549, lift=1.0)]), RelationRecord(items=frozenset({'Busan_Gangseo-gu'}), support=0.009083402146985962, ordered_statistics=[OrderedStatistic(items_base=frozenset(), items_add=frozenset({'Busan_Gangseo-gu'}), confidence=0.009083402146985962, lift=1.0)])]\n"
     ]
    }
   ],
   "source": [
    "results = list(apriori(routes_list, min_support=0.00165))\n",
    "\n",
    "# print first 5 rules\n",
    "print(results[:5])"
   ]
  },
  {
   "cell_type": "code",
   "execution_count": 30,
   "id": "53a9f116-ad40-4d6c-9e52-33e6e5e4fff5",
   "metadata": {},
   "outputs": [
    {
     "name": "stdout",
     "output_type": "stream",
     "text": [
      "   Left_side                         Right_side   Support  Confidence  Lift\n",
      "0                                  Busan_Buk-gu  0.008258    0.008258   1.0\n",
      "1                             Busan_Busanjin-gu  0.017341    0.017341   1.0\n",
      "2                                 Busan_Dong-gu  0.011561    0.011561   1.0\n",
      "3                              Busan_Dongnae-gu  0.034682    0.034682   1.0\n",
      "4                              Busan_Gangseo-gu  0.009083    0.009083   1.0\n",
      "5                            Busan_Geumjeong-gu  0.009083    0.009083   1.0\n",
      "6                              Busan_Gijang-gun  0.002477    0.002477   1.0\n",
      "7                             Busan_Haeundae-gu  0.026424    0.026424   1.0\n",
      "8                                 Busan_Jung-gu  0.006606    0.006606   1.0\n",
      "9                                  Busan_Nam-gu  0.006606    0.006606   1.0\n",
      "10                                Busan_Saha-gu  0.008258    0.008258   1.0\n",
      "11                              Busan_Sasang-gu  0.004129    0.004129   1.0\n",
      "12                                 Busan_Seo-gu  0.014038    0.014038   1.0\n",
      "13                             Busan_Suyeong-gu  0.013212    0.013212   1.0\n",
      "14                              Busan_Yeonje-gu  0.060281    0.060281   1.0\n",
      "15                Chungcheongbuk-do_Cheongju-si  0.013212    0.013212   1.0\n",
      "16                 Chungcheongbuk-do_Chungju-si  0.009083    0.009083   1.0\n",
      "17               Chungcheongbuk-do_Eumseong-gun  0.005780    0.005780   1.0\n",
      "18                 Chungcheongbuk-do_Goesan-gun  0.005780    0.005780   1.0\n",
      "19            Chungcheongbuk-do_Jeungpyeong-gun  0.001652    0.001652   1.0\n"
     ]
    }
   ],
   "source": [
    "def convert_apriori_results_to_pandas_df(results):\n",
    "    rules = []\n",
    "    \n",
    "    for rule_set in results:\n",
    "        for rule in rule_set.ordered_statistics:\n",
    "            # items_base = left side of rules, items_add = right side\n",
    "            # support, confidence and lift for respective rules\n",
    "            rules.append([','.join(rule.items_base), ','.join(rule.items_add),\n",
    "                         rule_set.support, rule.confidence, rule.lift]) \n",
    "    \n",
    "    # typecast it to pandas df\n",
    "    return pd.DataFrame(rules, columns=['Left_side', 'Right_side', 'Support', 'Confidence', 'Lift']) \n",
    "\n",
    "result_df = convert_apriori_results_to_pandas_df(results)\n",
    "\n",
    "print(result_df.head(20))"
   ]
  },
  {
   "cell_type": "markdown",
   "id": "cd902c19-d74b-4a0d-8a49-40e549a9b97a",
   "metadata": {},
   "source": [
    "#### Report the top 5 frequently occurring rules and interpret them."
   ]
  },
  {
   "cell_type": "code",
   "execution_count": 52,
   "id": "e7ab7031-23b9-4b1c-bb19-c5b9236282a0",
   "metadata": {},
   "outputs": [
    {
     "data": {
      "text/html": [
       "<div>\n",
       "<style scoped>\n",
       "    .dataframe tbody tr th:only-of-type {\n",
       "        vertical-align: middle;\n",
       "    }\n",
       "\n",
       "    .dataframe tbody tr th {\n",
       "        vertical-align: top;\n",
       "    }\n",
       "\n",
       "    .dataframe thead th {\n",
       "        text-align: right;\n",
       "    }\n",
       "</style>\n",
       "<table border=\"1\" class=\"dataframe\">\n",
       "  <thead>\n",
       "    <tr style=\"text-align: right;\">\n",
       "      <th></th>\n",
       "      <th>Left_side</th>\n",
       "      <th>Right_side</th>\n",
       "      <th>Support</th>\n",
       "      <th>Confidence</th>\n",
       "      <th>Lift</th>\n",
       "    </tr>\n",
       "  </thead>\n",
       "  <tbody>\n",
       "    <tr>\n",
       "      <th>92</th>\n",
       "      <td></td>\n",
       "      <td>Incheon_Jung-gu</td>\n",
       "      <td>0.123865</td>\n",
       "      <td>0.123865</td>\n",
       "      <td>1.0</td>\n",
       "    </tr>\n",
       "    <tr>\n",
       "      <th>112</th>\n",
       "      <td></td>\n",
       "      <td>Seoul_Gangnam-gu</td>\n",
       "      <td>0.086705</td>\n",
       "      <td>0.086705</td>\n",
       "      <td>1.0</td>\n",
       "    </tr>\n",
       "    <tr>\n",
       "      <th>108</th>\n",
       "      <td></td>\n",
       "      <td>Seoul_Dongjak-gu</td>\n",
       "      <td>0.085879</td>\n",
       "      <td>0.085879</td>\n",
       "      <td>1.0</td>\n",
       "    </tr>\n",
       "    <tr>\n",
       "      <th>22</th>\n",
       "      <td></td>\n",
       "      <td>Chungcheongnam-do_Cheonan-si</td>\n",
       "      <td>0.078448</td>\n",
       "      <td>0.078448</td>\n",
       "      <td>1.0</td>\n",
       "    </tr>\n",
       "    <tr>\n",
       "      <th>120</th>\n",
       "      <td></td>\n",
       "      <td>Seoul_Jungnang-gu</td>\n",
       "      <td>0.075970</td>\n",
       "      <td>0.075970</td>\n",
       "      <td>1.0</td>\n",
       "    </tr>\n",
       "  </tbody>\n",
       "</table>\n",
       "</div>"
      ],
      "text/plain": [
       "    Left_side                    Right_side   Support  Confidence  Lift\n",
       "92                          Incheon_Jung-gu  0.123865    0.123865   1.0\n",
       "112                        Seoul_Gangnam-gu  0.086705    0.086705   1.0\n",
       "108                        Seoul_Dongjak-gu  0.085879    0.085879   1.0\n",
       "22             Chungcheongnam-do_Cheonan-si  0.078448    0.078448   1.0\n",
       "120                       Seoul_Jungnang-gu  0.075970    0.075970   1.0"
      ]
     },
     "execution_count": 52,
     "metadata": {},
     "output_type": "execute_result"
    }
   ],
   "source": [
    "# Most frequent means rules with the most support, so we can sort in this way\n",
    "\n",
    "result_df.sort_values(by='Support', ascending=False).head(5)"
   ]
  },
  {
   "cell_type": "markdown",
   "id": "23d65517-a373-41c0-b0b3-883d12d952d3",
   "metadata": {},
   "source": [
    "The top 5 most common rules all have an empty \"left hand side\". This means that irrespective of the other location(s) involved, the 5 locations specified above will occur with a probability equal to thier confidence. If we were only interested in common changes in location (routes travelled) we could examine rules that have only non-empty left hand sides."
   ]
  },
  {
   "cell_type": "code",
   "execution_count": 53,
   "id": "2b0523c2-ef9f-4138-b697-4753ef1ca06d",
   "metadata": {},
   "outputs": [
    {
     "data": {
      "text/html": [
       "<div>\n",
       "<style scoped>\n",
       "    .dataframe tbody tr th:only-of-type {\n",
       "        vertical-align: middle;\n",
       "    }\n",
       "\n",
       "    .dataframe tbody tr th {\n",
       "        vertical-align: top;\n",
       "    }\n",
       "\n",
       "    .dataframe thead th {\n",
       "        text-align: right;\n",
       "    }\n",
       "</style>\n",
       "<table border=\"1\" class=\"dataframe\">\n",
       "  <thead>\n",
       "    <tr style=\"text-align: right;\">\n",
       "      <th></th>\n",
       "      <th>Left_side</th>\n",
       "      <th>Right_side</th>\n",
       "      <th>Support</th>\n",
       "      <th>Confidence</th>\n",
       "      <th>Lift</th>\n",
       "    </tr>\n",
       "  </thead>\n",
       "  <tbody>\n",
       "    <tr>\n",
       "      <th>1005</th>\n",
       "      <td>Seoul_Gangnam-gu</td>\n",
       "      <td>Incheon_Jung-gu</td>\n",
       "      <td>0.030553</td>\n",
       "      <td>0.352381</td>\n",
       "      <td>2.844889</td>\n",
       "    </tr>\n",
       "    <tr>\n",
       "      <th>1004</th>\n",
       "      <td>Incheon_Jung-gu</td>\n",
       "      <td>Seoul_Gangnam-gu</td>\n",
       "      <td>0.030553</td>\n",
       "      <td>0.246667</td>\n",
       "      <td>2.844889</td>\n",
       "    </tr>\n",
       "    <tr>\n",
       "      <th>1037</th>\n",
       "      <td>Incheon_Jung-gu</td>\n",
       "      <td>Seoul_Songpa-gu</td>\n",
       "      <td>0.020644</td>\n",
       "      <td>0.166667</td>\n",
       "      <td>3.669697</td>\n",
       "    </tr>\n",
       "    <tr>\n",
       "      <th>1038</th>\n",
       "      <td>Seoul_Songpa-gu</td>\n",
       "      <td>Incheon_Jung-gu</td>\n",
       "      <td>0.020644</td>\n",
       "      <td>0.454545</td>\n",
       "      <td>3.669697</td>\n",
       "    </tr>\n",
       "    <tr>\n",
       "      <th>479</th>\n",
       "      <td>Chungcheongnam-do_Asan-si</td>\n",
       "      <td>Chungcheongnam-do_Cheonan-si</td>\n",
       "      <td>0.017341</td>\n",
       "      <td>0.750000</td>\n",
       "      <td>9.560526</td>\n",
       "    </tr>\n",
       "  </tbody>\n",
       "</table>\n",
       "</div>"
      ],
      "text/plain": [
       "                      Left_side                    Right_side   Support  \\\n",
       "1005           Seoul_Gangnam-gu               Incheon_Jung-gu  0.030553   \n",
       "1004            Incheon_Jung-gu              Seoul_Gangnam-gu  0.030553   \n",
       "1037            Incheon_Jung-gu               Seoul_Songpa-gu  0.020644   \n",
       "1038            Seoul_Songpa-gu               Incheon_Jung-gu  0.020644   \n",
       "479   Chungcheongnam-do_Asan-si  Chungcheongnam-do_Cheonan-si  0.017341   \n",
       "\n",
       "      Confidence      Lift  \n",
       "1005    0.352381  2.844889  \n",
       "1004    0.246667  2.844889  \n",
       "1037    0.166667  3.669697  \n",
       "1038    0.454545  3.669697  \n",
       "479     0.750000  9.560526  "
      ]
     },
     "execution_count": 53,
     "metadata": {},
     "output_type": "execute_result"
    }
   ],
   "source": [
    "result_df[result_df.Left_side != ''].sort_values(by='Support', ascending=False).head(5)"
   ]
  },
  {
   "cell_type": "markdown",
   "id": "87edd60d-9ad4-445c-80a0-d90774b6eeea",
   "metadata": {},
   "source": [
    "#### Identify at least 10 common routes that positive patients from ‘Daegu_Buk-gu’ have travelled.<br>\n",
    "\n",
    "As above, most common can be interpreted as having the most support."
   ]
  },
  {
   "cell_type": "code",
   "execution_count": 45,
   "id": "7069da68-bbba-4e77-b82f-d1e829f1860e",
   "metadata": {},
   "outputs": [
    {
     "data": {
      "text/html": [
       "<div>\n",
       "<style scoped>\n",
       "    .dataframe tbody tr th:only-of-type {\n",
       "        vertical-align: middle;\n",
       "    }\n",
       "\n",
       "    .dataframe tbody tr th {\n",
       "        vertical-align: top;\n",
       "    }\n",
       "\n",
       "    .dataframe thead th {\n",
       "        text-align: right;\n",
       "    }\n",
       "</style>\n",
       "<table border=\"1\" class=\"dataframe\">\n",
       "  <thead>\n",
       "    <tr style=\"text-align: right;\">\n",
       "      <th></th>\n",
       "      <th>Left_side</th>\n",
       "      <th>Right_side</th>\n",
       "      <th>Support</th>\n",
       "      <th>Confidence</th>\n",
       "      <th>Lift</th>\n",
       "    </tr>\n",
       "  </thead>\n",
       "  <tbody>\n",
       "    <tr>\n",
       "      <th>509</th>\n",
       "      <td>Daegu_Buk-gu</td>\n",
       "      <td>Daegu_Jung-gu</td>\n",
       "      <td>0.015690</td>\n",
       "      <td>0.487179</td>\n",
       "      <td>7.866325</td>\n",
       "    </tr>\n",
       "    <tr>\n",
       "      <th>527</th>\n",
       "      <td>Daegu_Buk-gu</td>\n",
       "      <td>Gyeongsangbuk-do_Pohang-si</td>\n",
       "      <td>0.009083</td>\n",
       "      <td>0.282051</td>\n",
       "      <td>8.758054</td>\n",
       "    </tr>\n",
       "    <tr>\n",
       "      <th>512</th>\n",
       "      <td>Daegu_Buk-gu</td>\n",
       "      <td>Daegu_Nam-gu</td>\n",
       "      <td>0.004129</td>\n",
       "      <td>0.128205</td>\n",
       "      <td>10.350427</td>\n",
       "    </tr>\n",
       "    <tr>\n",
       "      <th>2012</th>\n",
       "      <td>Daegu_Buk-gu</td>\n",
       "      <td>Daegu_Nam-gu,Daegu_Jung-gu</td>\n",
       "      <td>0.004129</td>\n",
       "      <td>0.128205</td>\n",
       "      <td>17.250712</td>\n",
       "    </tr>\n",
       "    <tr>\n",
       "      <th>524</th>\n",
       "      <td>Daegu_Buk-gu</td>\n",
       "      <td>Gyeongsangbuk-do_Gyeongsan-si</td>\n",
       "      <td>0.003303</td>\n",
       "      <td>0.102564</td>\n",
       "      <td>3.268556</td>\n",
       "    </tr>\n",
       "    <tr>\n",
       "      <th>506</th>\n",
       "      <td>Daegu_Buk-gu</td>\n",
       "      <td>Daegu_Dong-gu</td>\n",
       "      <td>0.003303</td>\n",
       "      <td>0.102564</td>\n",
       "      <td>5.175214</td>\n",
       "    </tr>\n",
       "    <tr>\n",
       "      <th>1998</th>\n",
       "      <td>Daegu_Buk-gu</td>\n",
       "      <td>Daegu_Dong-gu,Daegu_Jung-gu</td>\n",
       "      <td>0.003303</td>\n",
       "      <td>0.102564</td>\n",
       "      <td>11.291375</td>\n",
       "    </tr>\n",
       "    <tr>\n",
       "      <th>2075</th>\n",
       "      <td>Daegu_Buk-gu</td>\n",
       "      <td>Daegu_Nam-gu,Daegu_Seo-gu</td>\n",
       "      <td>0.002477</td>\n",
       "      <td>0.076923</td>\n",
       "      <td>23.288462</td>\n",
       "    </tr>\n",
       "    <tr>\n",
       "      <th>3193</th>\n",
       "      <td>Daegu_Buk-gu</td>\n",
       "      <td>Daegu_Nam-gu,Daegu_Jung-gu,Daegu_Seo-gu</td>\n",
       "      <td>0.002477</td>\n",
       "      <td>0.076923</td>\n",
       "      <td>31.051282</td>\n",
       "    </tr>\n",
       "    <tr>\n",
       "      <th>3223</th>\n",
       "      <td>Daegu_Buk-gu</td>\n",
       "      <td>Seoul_Jung-gu,Daegu_Nam-gu,Daegu_Jung-gu</td>\n",
       "      <td>0.002477</td>\n",
       "      <td>0.076923</td>\n",
       "      <td>31.051282</td>\n",
       "    </tr>\n",
       "  </tbody>\n",
       "</table>\n",
       "</div>"
      ],
      "text/plain": [
       "         Left_side                                Right_side   Support  \\\n",
       "509   Daegu_Buk-gu                             Daegu_Jung-gu  0.015690   \n",
       "527   Daegu_Buk-gu                Gyeongsangbuk-do_Pohang-si  0.009083   \n",
       "512   Daegu_Buk-gu                              Daegu_Nam-gu  0.004129   \n",
       "2012  Daegu_Buk-gu                Daegu_Nam-gu,Daegu_Jung-gu  0.004129   \n",
       "524   Daegu_Buk-gu             Gyeongsangbuk-do_Gyeongsan-si  0.003303   \n",
       "506   Daegu_Buk-gu                             Daegu_Dong-gu  0.003303   \n",
       "1998  Daegu_Buk-gu               Daegu_Dong-gu,Daegu_Jung-gu  0.003303   \n",
       "2075  Daegu_Buk-gu                 Daegu_Nam-gu,Daegu_Seo-gu  0.002477   \n",
       "3193  Daegu_Buk-gu   Daegu_Nam-gu,Daegu_Jung-gu,Daegu_Seo-gu  0.002477   \n",
       "3223  Daegu_Buk-gu  Seoul_Jung-gu,Daegu_Nam-gu,Daegu_Jung-gu  0.002477   \n",
       "\n",
       "      Confidence       Lift  \n",
       "509     0.487179   7.866325  \n",
       "527     0.282051   8.758054  \n",
       "512     0.128205  10.350427  \n",
       "2012    0.128205  17.250712  \n",
       "524     0.102564   3.268556  \n",
       "506     0.102564   5.175214  \n",
       "1998    0.102564  11.291375  \n",
       "2075    0.076923  23.288462  \n",
       "3193    0.076923  31.051282  \n",
       "3223    0.076923  31.051282  "
      ]
     },
     "execution_count": 45,
     "metadata": {},
     "output_type": "execute_result"
    }
   ],
   "source": [
    "result_df[result_df.Left_side == 'Daegu_Buk-gu'].sort_values(by='Support', ascending=False).head(10)"
   ]
  },
  {
   "cell_type": "markdown",
   "id": "40f880d5-acce-4eb9-a012-0787578172ee",
   "metadata": {},
   "source": [
    "Another option I was contemplating for this:\n",
    "- From Daegu_Buk-gu could be interpretted as this location being on the RHS of the rule, this might enable generation of the 10 rules they want with a higher min_support"
   ]
  },
  {
   "cell_type": "markdown",
   "id": "d043b93d-03e5-4cce-9493-31160dcd459e",
   "metadata": {},
   "source": [
    "#### Can you perform sequence analysis on this dataset? If yes, present your results. If not, rationalise why."
   ]
  },
  {
   "cell_type": "code",
   "execution_count": 33,
   "id": "257cb95a-a1bd-459a-8956-11903e2dd826",
   "metadata": {},
   "outputs": [],
   "source": [
    "# Visual inspection of the CSV shows the locations are reported in ascending date order for each patient\n",
    "# If they were not we would need to iterate through each patient and sort the dates\n",
    "\n",
    "sequences = routes.values.tolist()"
   ]
  },
  {
   "cell_type": "markdown",
   "id": "1bb75c88-f282-4e06-a2b0-a7f66b575dfe",
   "metadata": {},
   "source": [
    "Shamelessly steal the function from the Module 5 notebook"
   ]
  },
  {
   "cell_type": "code",
   "execution_count": 34,
   "id": "4d371bfc-2980-4ea7-917d-45b1249c9a46",
   "metadata": {},
   "outputs": [],
   "source": [
    "''' Uses SPMF to find association rules in supplied transactions '''\n",
    "def get_association_rules(sequences, min_sup, min_conf):\n",
    "    # step 1: create required input for SPMF\n",
    "    \n",
    "    # prepare a dict to uniquely assign each item in the transactions to an int ID\n",
    "    item_dict = defaultdict(int)\n",
    "    output_dict = defaultdict(str)\n",
    "    item_id = 1\n",
    "    \n",
    "    # write your sequences in SPMF format\n",
    "    with open('seq_rule_input.txt', 'w+') as f:\n",
    "        for sequence in sequences:\n",
    "            z = []\n",
    "            for itemset in sequence:\n",
    "                # if there are multiple items in one itemset\n",
    "                if isinstance(itemset, list):\n",
    "                    for item in itemset:\n",
    "                        if item not in item_dict:\n",
    "                            item_dict[item] = item_id\n",
    "                            item_id += 1\n",
    "\n",
    "                        z.append(item_dict[item])\n",
    "                else:\n",
    "                    if itemset not in item_dict:\n",
    "                        item_dict[itemset] = item_id\n",
    "                        output_dict[str(item_id)] = itemset\n",
    "                        item_id += 1\n",
    "                    z.append(item_dict[itemset])\n",
    "                    \n",
    "                # end of itemset\n",
    "                z.append(-1)\n",
    "            \n",
    "            # end of a sequence\n",
    "            z.append(-2)\n",
    "            f.write(' '.join([str(x) for x in z]))\n",
    "            f.write('\\n')\n",
    "    \n",
    "    # run SPMF with supplied parameters\n",
    "    supp_param = '{}%'.format(int(min_sup * 100))\n",
    "    conf_param = '{}%'.format(int(min_conf * 100))\n",
    "    subprocess.call(['java', '-jar', 'spmf.jar', 'run', 'RuleGrowth', 'seq_rule_input.txt', 'seq_rule_output.txt', supp_param, conf_param], shell=True)\n",
    "    \n",
    "    # read back the output rules\n",
    "    outputs = open('seq_rule_output.txt', 'r').read().strip().split('\\n')\n",
    "    output_rules = []\n",
    "    for rule in outputs:\n",
    "        left, right, sup, conf = re.search(pattern=r'([0-9\\,]+) ==> ([0-9\\,]+) #SUP: ([0-9]+) #CONF: ([0-9\\.]+)', string=rule).groups()\n",
    "        sup = int(sup) / len(sequences)\n",
    "        conf = float(conf)\n",
    "        output_rules.append([[output_dict[x] for x in left.split(',')], [output_dict[x] for x in right.split(',')], sup, conf])\n",
    "    \n",
    "    # return pandas DataFrame\n",
    "    return pd.DataFrame(output_rules, columns = ['Left_rule', 'Right_rule', 'Support', 'Confidence'])"
   ]
  },
  {
   "cell_type": "code",
   "execution_count": 41,
   "id": "834bdf12-0a02-4c98-8363-f9895e850413",
   "metadata": {},
   "outputs": [
    {
     "data": {
      "text/html": [
       "<div>\n",
       "<style scoped>\n",
       "    .dataframe tbody tr th:only-of-type {\n",
       "        vertical-align: middle;\n",
       "    }\n",
       "\n",
       "    .dataframe tbody tr th {\n",
       "        vertical-align: top;\n",
       "    }\n",
       "\n",
       "    .dataframe thead th {\n",
       "        text-align: right;\n",
       "    }\n",
       "</style>\n",
       "<table border=\"1\" class=\"dataframe\">\n",
       "  <thead>\n",
       "    <tr style=\"text-align: right;\">\n",
       "      <th></th>\n",
       "      <th>Left_rule</th>\n",
       "      <th>Right_rule</th>\n",
       "      <th>Support</th>\n",
       "      <th>Confidence</th>\n",
       "    </tr>\n",
       "  </thead>\n",
       "  <tbody>\n",
       "    <tr>\n",
       "      <th>3325</th>\n",
       "      <td>[Incheon_Jung-gu]</td>\n",
       "      <td>[Seoul_Gangnam-gu]</td>\n",
       "      <td>0.029727</td>\n",
       "      <td>0.240000</td>\n",
       "    </tr>\n",
       "    <tr>\n",
       "      <th>19381</th>\n",
       "      <td>[Chungcheongnam-do_Asan-si]</td>\n",
       "      <td>[Chungcheongnam-do_Cheonan-si]</td>\n",
       "      <td>0.016515</td>\n",
       "      <td>0.714286</td>\n",
       "    </tr>\n",
       "    <tr>\n",
       "      <th>3007</th>\n",
       "      <td>[Seoul_Songpa-gu]</td>\n",
       "      <td>[Seoul_Jungnang-gu]</td>\n",
       "      <td>0.015690</td>\n",
       "      <td>0.345455</td>\n",
       "    </tr>\n",
       "    <tr>\n",
       "      <th>17235</th>\n",
       "      <td>[Busan_Dongnae-gu]</td>\n",
       "      <td>[Busan_Yeonje-gu]</td>\n",
       "      <td>0.014864</td>\n",
       "      <td>0.428571</td>\n",
       "    </tr>\n",
       "    <tr>\n",
       "      <th>8276</th>\n",
       "      <td>[Daegu_Jung-gu]</td>\n",
       "      <td>[Daegu_Buk-gu]</td>\n",
       "      <td>0.014038</td>\n",
       "      <td>0.226667</td>\n",
       "    </tr>\n",
       "    <tr>\n",
       "      <th>17733</th>\n",
       "      <td>[Busan_Haeundae-gu]</td>\n",
       "      <td>[Busan_Yeonje-gu]</td>\n",
       "      <td>0.012386</td>\n",
       "      <td>0.468750</td>\n",
       "    </tr>\n",
       "    <tr>\n",
       "      <th>18526</th>\n",
       "      <td>[Busan_Busanjin-gu]</td>\n",
       "      <td>[Busan_Yeonje-gu]</td>\n",
       "      <td>0.010735</td>\n",
       "      <td>0.619048</td>\n",
       "    </tr>\n",
       "    <tr>\n",
       "      <th>9370</th>\n",
       "      <td>[Seoul_Gwanak-gu]</td>\n",
       "      <td>[Seoul_Dongjak-gu]</td>\n",
       "      <td>0.009909</td>\n",
       "      <td>0.285714</td>\n",
       "    </tr>\n",
       "    <tr>\n",
       "      <th>7585</th>\n",
       "      <td>[Seoul_Seocho-gu]</td>\n",
       "      <td>[Seoul_Dongjak-gu]</td>\n",
       "      <td>0.008258</td>\n",
       "      <td>0.222222</td>\n",
       "    </tr>\n",
       "    <tr>\n",
       "      <th>9848</th>\n",
       "      <td>[Seoul_Gangseo-gu]</td>\n",
       "      <td>[Seoul_Yangcheon-gu]</td>\n",
       "      <td>0.008258</td>\n",
       "      <td>0.312500</td>\n",
       "    </tr>\n",
       "  </tbody>\n",
       "</table>\n",
       "</div>"
      ],
      "text/plain": [
       "                         Left_rule                      Right_rule   Support  \\\n",
       "3325             [Incheon_Jung-gu]              [Seoul_Gangnam-gu]  0.029727   \n",
       "19381  [Chungcheongnam-do_Asan-si]  [Chungcheongnam-do_Cheonan-si]  0.016515   \n",
       "3007             [Seoul_Songpa-gu]             [Seoul_Jungnang-gu]  0.015690   \n",
       "17235           [Busan_Dongnae-gu]               [Busan_Yeonje-gu]  0.014864   \n",
       "8276               [Daegu_Jung-gu]                  [Daegu_Buk-gu]  0.014038   \n",
       "17733          [Busan_Haeundae-gu]               [Busan_Yeonje-gu]  0.012386   \n",
       "18526          [Busan_Busanjin-gu]               [Busan_Yeonje-gu]  0.010735   \n",
       "9370             [Seoul_Gwanak-gu]              [Seoul_Dongjak-gu]  0.009909   \n",
       "7585             [Seoul_Seocho-gu]              [Seoul_Dongjak-gu]  0.008258   \n",
       "9848            [Seoul_Gangseo-gu]            [Seoul_Yangcheon-gu]  0.008258   \n",
       "\n",
       "       Confidence  \n",
       "3325     0.240000  \n",
       "19381    0.714286  \n",
       "3007     0.345455  \n",
       "17235    0.428571  \n",
       "8276     0.226667  \n",
       "17733    0.468750  \n",
       "18526    0.619048  \n",
       "9370     0.285714  \n",
       "7585     0.222222  \n",
       "9848     0.312500  "
      ]
     },
     "execution_count": 41,
     "metadata": {},
     "output_type": "execute_result"
    }
   ],
   "source": [
    "get_association_rules(sequences, 0.00165, 0.2).sort_values(by='Support', ascending=False).head(10)"
   ]
  },
  {
   "cell_type": "markdown",
   "id": "1de8f878-5dde-4947-9fa1-7684e6bc585f",
   "metadata": {},
   "source": [
    "All of the sequence rules generated have relatively low levels of support, which is consistent with the overall low prevalence of many locations within the dataset. However, several of the rules have a relatively high confidence. This can be interpreted as the sequence of locations (route travelled) occuring in this order with a probability equal to the confidence."
   ]
  },
  {
   "cell_type": "markdown",
   "id": "3b567821-eda7-472e-b193-d2a43e5c00e1",
   "metadata": {},
   "source": [
    "#### How can the outcome of this study be used by the decision-makers?"
   ]
  },
  {
   "cell_type": "markdown",
   "id": "20fde0b6-1d46-485b-b98c-ad6c29e98ec9",
   "metadata": {},
   "source": [
    "- Identify COVID-19 hotspots based on levels of support for individual locations\n",
    "- Identify locations that are likely to be linked in terms of case transmission (using the association rules generated)\n",
    "- Identify potential routes of transmission to new areas utilising the rules generated by the sequence association rules\n",
    "- This can enable:\n",
    "    - Targetted testing of areas which are linked\n",
    "    - Limitation of travel along specific routes\n",
    "    - Enhance contact tracing, even without specific knowledge regarding a cases movements"
   ]
  }
 ],
 "metadata": {
  "kernelspec": {
   "display_name": "Python 3",
   "language": "python",
   "name": "python3"
  },
  "language_info": {
   "codemirror_mode": {
    "name": "ipython",
    "version": 3
   },
   "file_extension": ".py",
   "mimetype": "text/x-python",
   "name": "python",
   "nbconvert_exporter": "python",
   "pygments_lexer": "ipython3",
   "version": "3.8.10"
  }
 },
 "nbformat": 4,
 "nbformat_minor": 5
}
